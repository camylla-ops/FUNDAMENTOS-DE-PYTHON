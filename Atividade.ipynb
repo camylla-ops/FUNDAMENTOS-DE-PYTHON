{
  "nbformat": 4,
  "nbformat_minor": 0,
  "metadata": {
    "colab": {
      "provenance": [],
      "authorship_tag": "ABX9TyMi5r8RDqRmqtfWMUDajqlv",
      "include_colab_link": true
    },
    "kernelspec": {
      "name": "python3",
      "display_name": "Python 3"
    },
    "language_info": {
      "name": "python"
    }
  },
  "cells": [
    {
      "cell_type": "markdown",
      "metadata": {
        "id": "view-in-github",
        "colab_type": "text"
      },
      "source": [
        "<a href=\"https://colab.research.google.com/github/camylla-ops/FUNDAMENTOS-DE-PYTHON/blob/main/Atividade.ipynb\" target=\"_parent\"><img src=\"https://colab.research.google.com/assets/colab-badge.svg\" alt=\"Open In Colab\"/></a>"
      ]
    },
    {
      "cell_type": "code",
      "execution_count": 1,
      "metadata": {
        "colab": {
          "base_uri": "https://localhost:8080/"
        },
        "id": "2MoOyjnIv1I3",
        "outputId": "6eafd479-669b-484f-b721-cac40575a0d0"
      },
      "outputs": [
        {
          "output_type": "stream",
          "name": "stdout",
          "text": [
            " Digite um número inteiro: 2\n",
            " Número é menor que 10\n"
          ]
        }
      ],
      "source": [
        "#1. Faça um algoritmo que leia um número inteiro e diga se ele é maior, menor ou igual a 10;\n",
        "\n",
        "n = int(input( \" Digite um número inteiro: \"))\n",
        "\n",
        "if n > 10:\n",
        "   print(\" Número é maior que 10 \")\n",
        "elif n < 10:\n",
        "     print(\" Número é menor que 10\")\n",
        "else:\n",
        "     print(\" Número é igual a 10 \" )\n"
      ]
    },
    {
      "cell_type": "code",
      "source": [
        "# 2. Faça um algoritmo que leia dois números inteiros e apresente na tela o maior deles ou se eles são iguais;\n",
        "\n",
        "n1 = int(input(\"Digite um número inteiro: \"))\n",
        "n2 = int(input(\"Digite outro número inteiro: \"))\n",
        "\n",
        "if n1 > n2:\n",
        "  print(n1, \"é maior que\", n2)\n",
        "elif n1 < n2:\n",
        "  print(n1, \"é menor que\", n2)\n",
        "else:\n",
        "  print(\"os números são iguais\")\n"
      ],
      "metadata": {
        "id": "5ZIWr029wva4"
      },
      "execution_count": null,
      "outputs": []
    },
    {
      "cell_type": "code",
      "source": [
        "#3. Crie um algoritmo que leia um número e diga se ele está no intervalo fechado entre 25 e 200;\n",
        "\n",
        "n3 = float(input('Digite um número real: ')) #recebendo valor do usuário e o transformando em float\n",
        "if n3 >= 25 and n3 <= 200:\n",
        "  print(f'{n3} está dentro do intervalo fechado entre 25 e 200')\n",
        "else:\n",
        "  print(f'{n3} não está dentro do intervalo fechado entre 25 e 200')"
      ],
      "metadata": {
        "id": "mPXezD7Yxhii"
      },
      "execution_count": null,
      "outputs": []
    },
    {
      "cell_type": "code",
      "source": [
        "#4. Crie um algoritmo que leia um número e informe na tela se o mesmo é positivo. Caso seja, mostre o número na tela;\n",
        "\n",
        "n4 = float(input('Digite um número real: ')) #recebendo valor do usuário e o transformando em float\n",
        "if n4 > 0:\n",
        "  print(f'{n4} é um número positivo')\n",
        "else:\n",
        "  pass # comando que se aplica para não ecerrar o código e sim passar para a próxima linha de código"
      ],
      "metadata": {
        "id": "c8NQ6SlmxsEU"
      },
      "execution_count": null,
      "outputs": []
    },
    {
      "cell_type": "code",
      "source": [
        "# Off Topic\n",
        "\n",
        "n4 = float(input('Digite um número real: ')) #recebendo valor do usuário e o transformando em float\n",
        "if n4 > 0:\n",
        "  print(f'{n4} é um número positivo')\n",
        "elif n4 <0:\n",
        "    print(f'{n4} é um número negativo')\n",
        "else:\n",
        "  print(f'{n4} é um número neutro')"
      ],
      "metadata": {
        "id": "XmyvpzUgyR2z"
      },
      "execution_count": null,
      "outputs": []
    },
    {
      "cell_type": "code",
      "source": [
        "#5. Crie um algoritmo que leia um número e informe se ele é divisível por 7.\n",
        "\n",
        "n5 = float(input('Informe um número: '))\n",
        "if n5 % 7 == 0:\n",
        "  print(f'{n5} é um número divisível por 7')\n",
        "else:\n",
        "  pass"
      ],
      "metadata": {
        "id": "PB1TH8iixvCH"
      },
      "execution_count": null,
      "outputs": []
    },
    {
      "cell_type": "code",
      "source": [
        "#6. Crie um algoritmo que leia um número e diga se ele é par ou ímpar.\n",
        "\n",
        "n6 = int(input('Informe um número: '))\n",
        "if n6 % 2 == 0:\n",
        "  print('O número digitado é par.')\n",
        "else:\n",
        "  print('O número digitado é ímpar.')"
      ],
      "metadata": {
        "id": "uJe0ErUKx0bH"
      },
      "execution_count": null,
      "outputs": []
    },
    {
      "cell_type": "code",
      "source": [
        "# Ex6b\n",
        "\n",
        "n6 = int(input('Informe um número: '))\n",
        "if n6 % 2 == 0 and n6 != 0:\n",
        "  print(f'{n6} é um número par')\n",
        "elif n6 % 2 != 0 and n6 != 0:\n",
        "  print(f'{n6} é um número ímpar')\n",
        "else:\n",
        "  print(f'{n6} é zero e o professor viajou na maionese e não quer assumir como par e também é o número de casamentos futuros do professor')"
      ],
      "metadata": {
        "id": "IhXBgH6ryacV"
      },
      "execution_count": null,
      "outputs": []
    },
    {
      "cell_type": "code",
      "source": [
        "#7. Escreva um programa em Python que solicite ao usuário que digite uma letra. Em seguida, verifique se a letra digitada é uma vogal ou não.\n",
        "\n",
        "l = input('Digite uma letra: ')\n",
        "l = l.casefold()\n",
        "\n",
        "if l == 'a' or l == 'e' or l == 'i' or l == 'o' or l == 'u':\n",
        "  print(f'{l} é uma vogal')\n",
        "else:\n",
        "  print(f'{l} não é uma vogal')"
      ],
      "metadata": {
        "id": "bJtE5k2nx2Hi"
      },
      "execution_count": null,
      "outputs": []
    },
    {
      "cell_type": "code",
      "source": [
        "#8. Escreva um programa que solicite ao usuário três notas de um aluno e calcule a média. Em seguida, exiba a média e uma mensagem informando se o aluno foi aprovado (média maior ou igual a 7) ou reprovado.\n",
        "\n",
        "nota1 = float(input('Informe a primeira nota: '))\n",
        "nota2 = float(input('Informe a segunda nota: '))\n",
        "nota3 = float(input('Informe a terceira nota: '))\n",
        "media = (nota1 + nota2 + nota3) / 3\n",
        "if media >= 7:\n",
        "  print(f'Aprovado com média {media:.2f}')\n",
        "else:\n",
        "  print(f'Reprovado com média {media:.2f}')"
      ],
      "metadata": {
        "colab": {
          "base_uri": "https://localhost:8080/"
        },
        "id": "YRgVg-ApZ67U",
        "outputId": "0aba233b-4b37-4f3b-eea6-5c3bc85aacf9"
      },
      "execution_count": null,
      "outputs": [
        {
          "output_type": "stream",
          "name": "stdout",
          "text": [
            "Informe a primeira nota: 6\n",
            "Informe a segunda nota: 5\n",
            "Informe a terceira nota: 4\n",
            "Reprovado com média 5.00\n"
          ]
        }
      ]
    },
    {
      "cell_type": "code",
      "source": [
        "#9. Escreva um programa que solicite ao usuário os comprimentos dos três lados de um triângulo. Em seguida, exiba uma mensagem informando se o triângulo é equilátero (todos os lados iguais), isósceles (dois lados iguais) ou escaleno (todos os lados diferentes).\n",
        "\n",
        "l1 = float(input('Informe o comprimento do 1º lado: '))\n",
        "l2 = float(input('Informe o comprimento do 2º lado: '))\n",
        "l3 = float(input('Informe o comprimento do 3º lado: '))\n",
        "\n",
        "if l1 < (l2 + l3) and l2 < (l1 + l3) and l3 < (l2 + l1):\n",
        "  tri = True\n",
        "else:\n",
        "  tri = False\n",
        "\n",
        "if tri == True:\n",
        "  print('A medidas informadas formam um triangulo')\n",
        "else:\n",
        "  print('''A medidas informadas não formam um triangulo, por favor digite\n",
        "  medidas que formem um triângulo, lembrando que para que exista um triângulo\n",
        "  a medida de um lado qualquer deve ser menor que a soma das medidas dos outros\n",
        "  dois lados informado''')\n",
        "\n",
        "# Código para caso as medidas formem um triangulo,faça sua classificação\n",
        "if tri == True:\n",
        "  if l1 == l2 and l2 == l3:\n",
        "    print('O triângulo é equilátero, tem três lados iguais.')\n",
        "\n",
        "  elif (l1 == l2 or l1 == l3 or l2 == l3): # and (l1 != l2 or l1 != l3 or l2 != l3): essa condição seria necessária caso não houvesse outra condicação antes dela que pegasse o caso de todos os lados iguais\n",
        "    print('O triângulo é isósceles, tem dois lados iguais..')\n",
        "\n",
        "  else:\n",
        "    print('O triângulo é escaleno todos os lados diferentes.')\n",
        "else:\n",
        "  pass"
      ],
      "metadata": {
        "colab": {
          "base_uri": "https://localhost:8080/"
        },
        "id": "zJiKwfnxa5Wo",
        "outputId": "a88c0d58-825e-441f-9296-e026cdd3f3b2"
      },
      "execution_count": null,
      "outputs": [
        {
          "output_type": "stream",
          "name": "stdout",
          "text": [
            "Informe o comprimento do 1º lado: 3\n",
            "Informe o comprimento do 2º lado: 4\n",
            "Informe o comprimento do 3º lado: 5\n",
            "A medidas informadas formam um triangulo\n",
            "O triângulo é escaleno todos os lados diferentes.\n"
          ]
        }
      ]
    },
    {
      "cell_type": "code",
      "source": [
        "#10.  Escreva um programa que solicite ao usuário sua idade e exiba uma mensagem informando em qual faixa etária ele se encontra: criança (0-12 anos), adolescente (13-17 anos), adulto (18-59 anos) ou idoso (60 anos ou mais).\n",
        "\n",
        "age = int(input('Informe a sua idade em anos inteiros: '))\n",
        "if 0 <= age <= 12: #( se 0 for menor ou igual a age e age for menor ou igual a 12)\n",
        "  print('criança')\n",
        "elif 13 <= age <= 17:\n",
        "  print('adolescente')\n",
        "elif 18 <= age <= 59:\n",
        "  print('adulto')\n",
        "else:\n",
        "  print('idoso')"
      ],
      "metadata": {
        "colab": {
          "base_uri": "https://localhost:8080/"
        },
        "id": "h0gYUeVO2Wq9",
        "outputId": "78aa4751-81c7-4ad0-fbf5-473898770405"
      },
      "execution_count": null,
      "outputs": [
        {
          "output_type": "stream",
          "name": "stdout",
          "text": [
            "Informe a sua idade em anos inteiros: 63\n",
            "idoso\n"
          ]
        }
      ]
    },
    {
      "cell_type": "code",
      "source": [
        "\n",
        "age = int(input('Informe a sua idade em anos inteiros: '))\n",
        "if age <= 12: #( se 0 for menor ou igual a age e age for menor ou igual a 12)\n",
        "  print('criança')\n",
        "elif age <= 17:\n",
        "  print('adolescente')\n",
        "elif age <= 59:\n",
        "  print('adulto')\n",
        "else:\n",
        "  print('idoso')"
      ],
      "metadata": {
        "colab": {
          "base_uri": "https://localhost:8080/"
        },
        "id": "VaaB5u0X4xsn",
        "outputId": "dc6d99c5-0e6c-4b93-aff0-b8f6295ddcb7"
      },
      "execution_count": null,
      "outputs": [
        {
          "output_type": "stream",
          "name": "stdout",
          "text": [
            "Informe a sua idade em anos inteiros: 63\n",
            "idoso\n"
          ]
        }
      ]
    }
  ]
}