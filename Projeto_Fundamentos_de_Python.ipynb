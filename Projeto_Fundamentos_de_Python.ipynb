{
  "nbformat": 4,
  "nbformat_minor": 0,
  "metadata": {
    "colab": {
      "provenance": [],
      "toc_visible": true,
      "authorship_tag": "ABX9TyMQWbLGDNMtnPqxQwYqPUGQ",
      "include_colab_link": true
    },
    "kernelspec": {
      "name": "python3",
      "display_name": "Python 3"
    },
    "language_info": {
      "name": "python"
    }
  },
  "cells": [
    {
      "cell_type": "markdown",
      "metadata": {
        "id": "view-in-github",
        "colab_type": "text"
      },
      "source": [
        "<a href=\"https://colab.research.google.com/github/camylla-ops/FUNDAMENTOS-DE-PYTHON/blob/main/Projeto_Fundamentos_de_Python.ipynb\" target=\"_parent\"><img src=\"https://colab.research.google.com/assets/colab-badge.svg\" alt=\"Open In Colab\"/></a>"
      ]
    },
    {
      "cell_type": "markdown",
      "source": [
        "# Projeto - Fundamentos de Python\n",
        "\n"
      ],
      "metadata": {
        "id": "yAxRcr9T1_Zw"
      }
    },
    {
      "cell_type": "markdown",
      "source": [
        "\n",
        "Escola SoulCode Academy\n",
        "\n",
        "\n",
        "Curso Bootcamp Analista de Dados - Martech - AD2\n",
        "\n",
        "\n",
        "Aluno: Camylla Oliveira\n",
        "\n",
        "---\n",
        "\n",
        "\\\n",
        "\n",
        "\n",
        "Este projeto tem como principal objetivo proporcionar ao estudante a verificação  das principais habilidades técnicas sobre fundamentos de Python aprendidas na quarta semana do Bootcamp de análise de dados na turma AD2.\n",
        "\n",
        "A proposta alia conceitos fundamentais de Python com o tema da primeira semana do Bootcamp (análise exploratória de dados).\n",
        "\n",
        "\n",
        "Neste projeto o estudante deverá individualmente construir um script em Python que receba do usuário duas variáveis de valores referentes a variáveis quantitativas e devolva como resposta a seguintes medidas de estatística descritiva para cada variável informada:\n",
        "\n",
        "Média aritmética;\n",
        "\n",
        "Mediana;\n",
        "\n",
        "Moda (se houver);\n",
        "\n",
        "Variância amostral;\n",
        "\n",
        "Desvio Padrão amostral;\n",
        "\n",
        "Amplitude total;\n",
        "\n",
        "Q1 (primeiro quartil);\n",
        "\n",
        "Q3 (terceiro quartil);\n",
        "\n",
        "AIQ (amplitude interquartílica);\n",
        "\n",
        "Limite inferior (LI do boxplot);\n",
        "\n",
        "Limite superior (LS do boxplot);\n",
        "\n",
        "Identificação e classificação de possíveis outliers na amostra;\n",
        "\n",
        "Coeficiente de Correlação de Pearson ( r );\n",
        "\n",
        "Coeficiente de determinação ( r ao quadrado);\n",
        "\n",
        "Coeficiente a ou alpha da equação de regressão linear simples para as duas variáveis escolhidas pelo usuário;\n",
        "\n",
        "Coeficiente b ou beta da equação de regressão linear simples para as duas variáveis escolhidas pelo usuário;\n",
        "\n",
        "\n",
        "## Requisitos obrigatórios:\n",
        "\n",
        "O programa deve conter todas as medidas de estatística descritiva solicitadas no bloco anterior;\n",
        "\n",
        "O Programa deve conter no mínimo as seguintes estruturas:\n",
        "\n",
        "\n",
        "1 - (if, elif e else),\n",
        "\n",
        "1 - (laço de repetição For)\n",
        "\n",
        "1 - (loop While);\n",
        "\n",
        "\n",
        "O programa não pode incorporar módulos e frameworks não estudados até o presente momento no bootcamp.\n",
        "\n",
        "Requisitos não obrigatórios (opcionais):\n",
        "\n",
        "\n",
        "Tratamentos de erros para entradas dos usuários;\n",
        "Quaisquer outras melhorias de código que não sejam contrárias aos requisitos obrigatórios.\n",
        "\n"
      ],
      "metadata": {
        "id": "BTnMnkWy2M4f"
      }
    },
    {
      "cell_type": "code",
      "source": [
        "# Criar listas para armazenar os valores\n",
        "valores = []\n",
        "valores2 = []\n",
        "\n",
        "# Solicitar ao usuário que insira os valores para a primeira lista\n",
        "entrada = (input(\"Digite os valores da primeira lista separados por espaço: \"))\n",
        "entrada = entrada.split()\n",
        "\n",
        "for i in range(len(entrada)):\n",
        " valores.append(float(entrada[i]))\n",
        "\n",
        "# Solicitar ao usuário que insira os valores para a segunda lista\n",
        "entrada2 = (input(\"Digite os valores da segunda lista separados por espaço: \"))\n",
        "entrada2 = entrada2.split()\n",
        "\n",
        "for i in range(len(entrada2)):\n",
        " valores2.append(float(entrada2[i]))\n",
        "\n",
        "# Ordenar as listas\n",
        "valores.sort()\n",
        "valores2.sort()\n",
        "\n",
        "# Imprimir a lista2\n",
        "print(\"Lista2 ordenada:\", valores2)\n"
      ],
      "metadata": {
        "colab": {
          "base_uri": "https://localhost:8080/"
        },
        "id": "BPBusOH4et-2",
        "outputId": "5e25dd9d-65e8-4b78-81c0-30921335d53f"
      },
      "execution_count": null,
      "outputs": [
        {
          "output_type": "stream",
          "name": "stdout",
          "text": [
            "Digite os valores da primeira lista separados por espaço: 1 2 3 4 5\n",
            "Digite os valores da segunda lista separados por espaço: 1 2 3 4 5\n",
            "Lista2 ordenada: [1.0, 2.0, 3.0, 4.0, 5.0]\n"
          ]
        }
      ]
    },
    {
      "cell_type": "code",
      "source": [
        "#média\n",
        "\n",
        "media = sum(valores) / len(valores)\n",
        "media2 = sum(valores2) / len(valores2)\n",
        "\n",
        "print(\"Média da primeira lista:\", media)\n",
        "print(\"Média da segunda lista:\", media2)\n"
      ],
      "metadata": {
        "colab": {
          "base_uri": "https://localhost:8080/"
        },
        "id": "DUuol71rHbLZ",
        "outputId": "49298a2e-f57c-422b-a5c4-9373c98b489a"
      },
      "execution_count": null,
      "outputs": [
        {
          "output_type": "stream",
          "name": "stdout",
          "text": [
            "Média da primeira lista: 3.0\n",
            "Média da segunda lista: 3.0\n"
          ]
        }
      ]
    },
    {
      "cell_type": "code",
      "source": [
        "#Mediana\n",
        "\n",
        "# Calcular a mediana da primeira lista\n",
        "if len(valores) % 2 != 0:\n",
        "    indice_mediana = len(valores) // 2\n",
        "    mediana1 = valores[indice_mediana]\n",
        "    print(\"Mediana da primeira lista (ímpar):\", mediana1)\n",
        "else:\n",
        "    indice_mediana1 = len(valores) // 2 - 1\n",
        "    indice_mediana2 = len(valores) // 2\n",
        "    mediana1 = (valores[indice_mediana1] + valores[indice_mediana2]) / 2\n",
        "    print(\"Mediana da primeira lista (par):\", mediana1)\n",
        "\n",
        "# Calcular a mediana da segunda lista\n",
        "if len(valores2) % 2 != 0:\n",
        "    indice_mediana = len(valores2) // 2\n",
        "    mediana2 = valores2[indice_mediana]\n",
        "    print(\"Mediana da segunda lista (ímpar):\", mediana2)\n",
        "else:\n",
        "    indice_mediana1 = len(valores2) // 2 - 1\n",
        "    indice_mediana2 = len(valores2) // 2\n",
        "    mediana2 = (valores2[indice_mediana1] + valores2[indice_mediana2]) / 2\n",
        "    print(\"Mediana da segunda lista (par):\", mediana2)\n"
      ],
      "metadata": {
        "colab": {
          "base_uri": "https://localhost:8080/"
        },
        "id": "chYB4KokJCUJ",
        "outputId": "7361a1a3-69e0-4183-86e6-996cbf5701e9"
      },
      "execution_count": null,
      "outputs": [
        {
          "output_type": "stream",
          "name": "stdout",
          "text": [
            "Mediana da primeira lista (ímpar): 3.0\n",
            "Mediana da segunda lista (ímpar): 3.0\n"
          ]
        }
      ]
    },
    {
      "cell_type": "code",
      "source": [
        "# Contagem dos valores\n",
        "\n",
        "contagem = {}\n",
        "for valor in valores:\n",
        "    if valor in contagem:\n",
        "        contagem[valor] += 1\n",
        "    else:\n",
        "        contagem[valor] = 1\n",
        "\n",
        "# Encontrar o valor com a maior contagem\n",
        "moda = None\n",
        "max_contagem = 0\n",
        "for valor, freq in contagem.items():\n",
        "    if freq > max_contagem:\n",
        "        moda = valor\n",
        "        max_contagem = freq\n",
        "\n",
        "# Verificar se há mais de uma moda\n",
        "mais_modas = []\n",
        "for valor, freq in contagem.items():\n",
        "    if freq == max_contagem and valor != moda:\n",
        "        mais_modas.append(valor)\n",
        "\n",
        "# Verificar se há múltiplas modas\n",
        "if mais_modas:\n",
        "    modas = [moda] + mais_modas\n",
        "    print(\"Moda(s):\", modas)\n",
        "else:\n",
        "    print(\"Moda:\", moda)\n",
        "\n"
      ],
      "metadata": {
        "id": "iBB4oOmgJeKf",
        "colab": {
          "base_uri": "https://localhost:8080/"
        },
        "outputId": "fff9fa04-02cc-49b6-8375-e83989713eba"
      },
      "execution_count": null,
      "outputs": [
        {
          "output_type": "stream",
          "name": "stdout",
          "text": [
            "Moda(s): [1.0, 20.0, 45.0, 60.0, 67.0, 70.0, 76.0, 79.0, 81.0, 84.0, 96.0, 500.0]\n"
          ]
        }
      ]
    },
    {
      "cell_type": "code",
      "source": [
        "#Variância amostral\n",
        "\n",
        "\n",
        "# Calcular a variância amostral da primeira lista\n",
        "listinha = []\n",
        "for i in range(len(valores)):\n",
        "    diferenca = valores[i] - media\n",
        "    diferenca_quadrado = diferenca ** 2\n",
        "    listinha.append(diferenca_quadrado)\n",
        "\n",
        "variancia1 = sum(listinha) / (len(valores) - 1)\n",
        "print(\"Variância amostral da primeira lista:\", variancia1)\n",
        "\n",
        "# Calcular a variância amostral da segunda lista\n",
        "listinha2 = []\n",
        "for i in range(len(valores2)):\n",
        "    diferenca2 = valores2[i] - media2\n",
        "    diferenca_quadrado2 = diferenca2 ** 2\n",
        "    listinha2.append(diferenca_quadrado2)\n",
        "\n",
        "variancia2 = sum(listinha2) / (len(valores2) - 1)\n",
        "print(\"Variância amostral da segunda lista:\", variancia2)\n"
      ],
      "metadata": {
        "colab": {
          "base_uri": "https://localhost:8080/"
        },
        "id": "t8p1cu2mShuG",
        "outputId": "3d441f7d-6af7-4ffa-e2c6-e722375a3341"
      },
      "execution_count": null,
      "outputs": [
        {
          "output_type": "stream",
          "name": "stdout",
          "text": [
            "Variância amostral da primeira lista: 16766.204545454544\n",
            "Variância amostral da segunda lista: 19123.9696969697\n"
          ]
        }
      ]
    },
    {
      "cell_type": "code",
      "source": [
        "# Calcular o desvio padrão amostral da primeira lista\n",
        "desvpada1 = variancia1 ** 0.5\n",
        "\n",
        "# Calcular o desvio padrão amostral da segunda lista\n",
        "desvpada2 = variancia2 ** 0.5\n",
        "\n",
        "print(\"Desvio padrão amostral da primeira lista:\", desvpada1)\n",
        "print(\"Desvio padrão amostral da segunda lista:\", desvpada2)\n"
      ],
      "metadata": {
        "colab": {
          "base_uri": "https://localhost:8080/"
        },
        "id": "CPVC6JhRkTnS",
        "outputId": "0e61dc5f-199a-43f6-916c-05c2cd453ccc"
      },
      "execution_count": null,
      "outputs": [
        {
          "output_type": "stream",
          "name": "stdout",
          "text": [
            "Desvio padrão amostral da primeira lista: 129.48437954230056\n",
            "Desvio padrão amostral da segunda lista: 138.2894417407551\n"
          ]
        }
      ]
    },
    {
      "cell_type": "code",
      "source": [
        "# Calcular a amplitude total da primeira lista\n",
        "amplitotal1 = valores[-1] - valores[0]\n",
        "\n",
        "# Calcular a amplitude total da segunda lista\n",
        "amplitotal2 = valores2[-1] - valores2[0]\n",
        "\n",
        "print(f\"A amplitude total do primeiro conjunto é {amplitotal1}\")\n",
        "print(f\"A amplitude total do segundo conjunto é {amplitotal2}\")\n"
      ],
      "metadata": {
        "colab": {
          "base_uri": "https://localhost:8080/"
        },
        "id": "c-zxS3mGka-W",
        "outputId": "ea7a487e-3bc1-4136-9028-75824dab77b3"
      },
      "execution_count": null,
      "outputs": [
        {
          "output_type": "stream",
          "name": "stdout",
          "text": [
            "A amplitude total do primeiro conjunto é 499.0\n",
            "A amplitude total do segundo conjunto é 600.0\n"
          ]
        }
      ]
    },
    {
      "cell_type": "code",
      "source": [
        "# Calcular o Q1 (primeiro quartil) da primeira lista\n",
        "q1atemp = (len(valores) + 1) // 4\n",
        "quartil1a = valores[q1atemp]\n",
        "print(f\"O primeiro quartil do primeiro conjunto é: {quartil1a}\")\n",
        "\n",
        "# Calcular o Q1 (primeiro quartil) da segunda lista\n",
        "q1btemp = (len(valores2) + 1) // 4\n",
        "quartil1b = valores2[q1btemp]\n",
        "print(f\"O primeiro quartil do segundo conjunto é: {quartil1b}\")\n"
      ],
      "metadata": {
        "colab": {
          "base_uri": "https://localhost:8080/"
        },
        "id": "8sd56DjqknO_",
        "outputId": "d1425663-028c-4a14-f943-f53b7abf9afc"
      },
      "execution_count": null,
      "outputs": [
        {
          "output_type": "stream",
          "name": "stdout",
          "text": [
            "O primeiro quartil do primeiro conjunto é: 60.0\n",
            "O primeiro quartil do segundo conjunto é: 51.0\n"
          ]
        }
      ]
    },
    {
      "cell_type": "code",
      "source": [
        "# Calcular o Q3 (terceiro quartil) da primeira lista\n",
        "q3atemp = (3 * (len(valores) + 1)) // 4\n",
        "quartil3a = valores[q3atemp]\n",
        "print(f\"O terceiro quartil do primeiro conjunto é: {quartil3a}\")\n",
        "\n",
        "# Calcular o Q3 (terceiro quartil) da segunda lista\n",
        "q3btemp = (3 * (len(valores2) + 1)) // 4\n",
        "quartil3b = valores2[q3btemp]\n",
        "print(f\"O terceiro quartil do segundo conjunto é: {quartil3b}\")\n"
      ],
      "metadata": {
        "colab": {
          "base_uri": "https://localhost:8080/"
        },
        "id": "rA1hoC0HktjO",
        "outputId": "5e4c654b-46a4-4b1d-cb0e-d07a50df9bfc"
      },
      "execution_count": null,
      "outputs": [
        {
          "output_type": "stream",
          "name": "stdout",
          "text": [
            "O terceiro quartil do primeiro conjunto é: 84.0\n",
            "O terceiro quartil do segundo conjunto é: 96.0\n"
          ]
        }
      ]
    },
    {
      "cell_type": "code",
      "source": [
        "# Calcular a AIQ (amplitude interquartílica) do primeiro conjunto\n",
        "aiq1 = quartil3a - quartil1a\n",
        "print(f\"A AIQ (amplitude interquartílica) do primeiro conjunto é: {aiq1}\")\n",
        "\n",
        "# Calcular a AIQ (amplitude interquartílica) do segundo conjunto\n",
        "aiq2 = quartil3b - quartil1b\n",
        "print(f\"A AIQ (amplitude interquartílica) do segundo conjunto é: {aiq2}\")\n"
      ],
      "metadata": {
        "colab": {
          "base_uri": "https://localhost:8080/"
        },
        "id": "-NwbLOsHk1sF",
        "outputId": "0cc0ffd0-105c-440d-a2ff-2aa3a33a38df"
      },
      "execution_count": null,
      "outputs": [
        {
          "output_type": "stream",
          "name": "stdout",
          "text": [
            "A AIQ (amplitude interquartílica) do primeiro conjunto é: 24.0\n",
            "A AIQ (amplitude interquartílica) do segundo conjunto é: 45.0\n"
          ]
        }
      ]
    },
    {
      "cell_type": "code",
      "source": [
        "# Calcular o limite inferior (LI) do primeiro conjunto\n",
        "linferior1 = quartil1a - (aiq1 * 1.5)\n",
        "print(f\"O limite inferior do primeiro conjunto é: {linferior1}\")\n",
        "\n",
        "# Calcular o limite inferior (LI) do segundo conjunto\n",
        "linferior2 = quartil1b - (aiq2 * 1.5)\n",
        "print(f\"O limite inferior do segundo conjunto é: {linferior2}\")\n"
      ],
      "metadata": {
        "colab": {
          "base_uri": "https://localhost:8080/"
        },
        "id": "JXXyUMgGk7y8",
        "outputId": "5a1c4651-1659-404b-bd7e-c6931753834c"
      },
      "execution_count": null,
      "outputs": [
        {
          "output_type": "stream",
          "name": "stdout",
          "text": [
            "O limite inferior do primeiro conjunto é: 24.0\n",
            "O limite inferior do segundo conjunto é: -16.5\n"
          ]
        }
      ]
    },
    {
      "cell_type": "code",
      "source": [
        "# Calcular o limite superior (LS) do primeiro conjunto\n",
        "lsuperior1 = (aiq1 * 1.5) + quartil3a\n",
        "print(f\"O limite superior do primeiro conjunto é: {lsuperior1}\")\n",
        "\n",
        "# Calcular o limite superior (LS) do segundo conjunto\n",
        "lsuperior2 = (aiq2 * 1.5) + quartil3b\n",
        "print(f\"O limite superior do segundo conjunto é: {lsuperior2}\")\n"
      ],
      "metadata": {
        "colab": {
          "base_uri": "https://localhost:8080/"
        },
        "id": "LWajjuLFk8nI",
        "outputId": "d3d2c179-ad7f-4a94-a84e-395bf6f68931"
      },
      "execution_count": null,
      "outputs": [
        {
          "output_type": "stream",
          "name": "stdout",
          "text": [
            "O limite superior do primeiro conjunto é: 120.0\n",
            "O limite superior do segundo conjunto é: 163.5\n"
          ]
        }
      ]
    },
    {
      "cell_type": "code",
      "source": [
        "# Identificar e classificar possíveis outliers no primeiro conjunto\n",
        "outliers_superior1 = []\n",
        "outliers_inferior1 = []\n",
        "\n",
        "for i in range(len(valores)):\n",
        "  if valores[i] > lsuperior1:\n",
        "    outliers_superior1.append(valores[i])\n",
        "  elif valores[i] < linferior1:\n",
        "    outliers_inferior1.append(valores[i])\n",
        "\n",
        "print(f\"Os valores acima do limite superior do primeiro conjunto são: {outliers_superior1}\")\n",
        "print(f\"Os valores abaixo do limite inferior do primeiro conjunto são: {outliers_inferior1}\")\n",
        "\n",
        "# Identificar e classificar possíveis outliers no segundo conjunto\n",
        "outliers_superior2 = []\n",
        "outliers_inferior2 = []\n",
        "\n",
        "for i in range(len(valores2)):\n",
        "  if valores2[i] > lsuperior2:\n",
        "    outliers_superior2.append(valores2[i])\n",
        "  elif valores2[i] < linferior2:\n",
        "    outliers_inferior2.append(valores2[i])\n",
        "\n",
        "print(f\"Os valores acima do limite superior do segundo conjunto são: {outliers_superior2}\")\n",
        "print(f\"Os valores abaixo do limite inferior do segundo conjunto são: {outliers_inferior2}\")\n"
      ],
      "metadata": {
        "colab": {
          "base_uri": "https://localhost:8080/"
        },
        "id": "qwkZ9oeplDBV",
        "outputId": "b761e755-fbd0-4814-e086-ec6f2a77720f"
      },
      "execution_count": null,
      "outputs": [
        {
          "output_type": "stream",
          "name": "stdout",
          "text": [
            "Os valores acima do limite superior do primeiro conjunto são: [500.0]\n",
            "Os valores abaixo do limite inferior do primeiro conjunto são: [1.0, 20.0]\n",
            "Os valores acima do limite superior do segundo conjunto são: [500.0]\n",
            "Os valores abaixo do limite inferior do segundo conjunto são: [-100.0]\n"
          ]
        }
      ]
    },
    {
      "cell_type": "code",
      "source": [
        "# Coeficiente de Correlação de Pearson\n",
        "dx = []\n",
        "dy = []\n",
        "dxy = []\n",
        "\n",
        "for i in range(len(valores)):\n",
        "  temp = valores[i] - media\n",
        "  dx.append(temp)\n",
        "\n",
        "for i in range(len(valores2)):\n",
        "  temp = valores2[i] - media2\n",
        "  dy.append(temp)\n",
        "\n",
        "for i in range(len(dx)):\n",
        "  dxy.append(dx[i] * dy[i])\n",
        "\n",
        "somadx2 = sum([x**2 for x in dx])\n",
        "somady2 = sum([y**2 for y in dy])\n",
        "somadxy = sum(dxy)\n",
        "pearson = somadxy / ((somadx2 * somady2)**0.5)\n",
        "\n",
        "print(f\"O coeficiente de correlação de Pearson para estas variáveis é {pearson:.2f}\")\n",
        "\n",
        "# Coeficiente de determinação\n",
        "print(f\"O coeficiente de determinação para estas variáveis é {pearson**2:.2f}\")\n"
      ],
      "metadata": {
        "colab": {
          "base_uri": "https://localhost:8080/"
        },
        "id": "aBoxcMmol9QB",
        "outputId": "c982ae18-4264-45eb-c0f7-8fd4552aad49"
      },
      "execution_count": null,
      "outputs": [
        {
          "output_type": "stream",
          "name": "stdout",
          "text": [
            "O coeficiente de correlação de Pearson para estas variáveis é 0.97\n",
            "O coeficiente de determinação para estas variáveis é 0.95\n"
          ]
        }
      ]
    },
    {
      "cell_type": "code",
      "source": [
        "# Cálculo dos coeficientes alpha (a) e beta (b) da regressão linear simples\n",
        "n = len(valores)  # Número de elementos nas listas\n",
        "sum_xy = sum(x * y for x, y in zip(valores, valores2))\n",
        "sum_x = sum(valores)\n",
        "sum_y = sum(valores2)\n",
        "sum_x2 = sum(x ** 2 for x in valores)\n",
        "\n",
        "# Coeficiente beta (b)\n",
        "beta = (n * sum_xy - sum_x * sum_y) / (n * sum_x2 - sum_x ** 2)\n",
        "\n",
        "# Coeficiente alpha (a)\n",
        "alpha = (sum_y - beta * sum_x) / n\n",
        "\n",
        "print(f\"O valor de Beta (b) é: {beta}\")\n",
        "print(f\"O valor de Alpha (a) é: {alpha}\")\n"
      ],
      "metadata": {
        "colab": {
          "base_uri": "https://localhost:8080/"
        },
        "id": "QEUmIYpCmFqs",
        "outputId": "8880e584-abcb-43a2-a5bc-4d265d8ca6ac"
      },
      "execution_count": null,
      "outputs": [
        {
          "output_type": "stream",
          "name": "stdout",
          "text": [
            "O valor de Beta (b) é: 1.0402663366376896\n",
            "O valor de Alpha (a) é: -6.37283424131967\n"
          ]
        }
      ]
    }
  ]
}